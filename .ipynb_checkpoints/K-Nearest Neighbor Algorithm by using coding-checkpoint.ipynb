{
 "cells": [
  {
   "cell_type": "code",
   "execution_count": 1,
   "id": "e4b36453",
   "metadata": {},
   "outputs": [],
   "source": [
    "# Simple Machine Learning\n",
    "# Classification & Regression algorithm\n",
    "# Supervised Learning\n",
    "# Majority VOte\n",
    "# No Training O(1)\n",
    "# All the work Every Time O(NQ)\n",
    "# Non parametric Algorithm - No learning\n",
    "# Baseline algorithm"
   ]
  },
  {
   "cell_type": "code",
   "execution_count": 2,
   "id": "c6464d20",
   "metadata": {},
   "outputs": [],
   "source": [
    "import pandas as pd\n",
    "import numpy as np\n",
    "import matplotlib.pyplot as plt"
   ]
  },
  {
   "cell_type": "code",
   "execution_count": null,
   "id": "1bc68f8e",
   "metadata": {},
   "outputs": [],
   "source": [
    "dfx = pd.read_csv('../Datasets/xdata.csv')\n",
    "dfy = pd.read_csv('../Datasets/ydata.csv')"
   ]
  },
  {
   "cell_type": "code",
   "execution_count": null,
   "id": "2d4b1da8",
   "metadata": {},
   "outputs": [],
   "source": [
    "X = dfx.values        # 3 columns - Including index columns\n",
    "Y = dfy.values        # 2 columns\n",
    "\n",
    "X = X[ : , 1 : ]\n",
    "Y = Y[ : , 1 : ].reshape((-1,))"
   ]
  },
  {
   "cell_type": "code",
   "execution_count": null,
   "id": "d8121655",
   "metadata": {},
   "outputs": [],
   "source": [
    "query_x = np.array([2, 3])\n",
    "plt.scatter(X[:, 0], X[:, 1], color='yellow')\n",
    "plt.scatter(query_x[0], query_x[1], color='red')\n",
    "plt.show()"
   ]
  },
  {
   "cell_type": "code",
   "execution_count": null,
   "id": "5b241c44",
   "metadata": {},
   "outputs": [],
   "source": [
    "def dist(x1, x2):\n",
    "    return np.sqrt(sum((x1-x2)**2))"
   ]
  },
  {
   "cell_type": "code",
   "execution_count": null,
   "id": "e427ba83",
   "metadata": {},
   "outputs": [],
   "source": [
    "def KNN(X, Y, queryPoint, k=5):\n",
    "    vals = []\n",
    "    m = X.shape[0]\n",
    "    for i in range(m):\n",
    "        d = dist(queryPoint, X[i])\n",
    "        vals.append((d, Y[i]))\n",
    "    \n",
    "    vals = sorted(vals)\n",
    "    vals = vals[ : k]\n",
    "    \n",
    "    vals = np.array(vals)\n",
    "    new_vals = np.unique(vals[:, 1], return_counts = True)\n",
    "    print(new_vals)\n",
    "    index = new_vals[1].argmax()\n",
    "    pred = new_vals[0][index]\n",
    "    return pred"
   ]
  },
  {
   "cell_type": "code",
   "execution_count": null,
   "id": "657ad604",
   "metadata": {},
   "outputs": [],
   "source": [
    "x = KNN(X, Y, query_x)\n",
    "print(x)"
   ]
  },
  {
   "cell_type": "code",
   "execution_count": null,
   "id": "43273bee",
   "metadata": {},
   "outputs": [],
   "source": []
  }
 ],
 "metadata": {
  "kernelspec": {
   "display_name": "Python 3 (ipykernel)",
   "language": "python",
   "name": "python3"
  },
  "language_info": {
   "codemirror_mode": {
    "name": "ipython",
    "version": 3
   },
   "file_extension": ".py",
   "mimetype": "text/x-python",
   "name": "python",
   "nbconvert_exporter": "python",
   "pygments_lexer": "ipython3",
   "version": "3.10.0"
  }
 },
 "nbformat": 4,
 "nbformat_minor": 5
}
