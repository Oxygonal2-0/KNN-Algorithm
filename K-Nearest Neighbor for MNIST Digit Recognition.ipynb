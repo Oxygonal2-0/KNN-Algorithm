{
 "cells": [
  {
   "cell_type": "markdown",
   "id": "815b081d",
   "metadata": {},
   "source": [
    "# Recognition Handwrittern Digits on MNIST Dataset using KNN"
   ]
  },
  {
   "cell_type": "code",
   "execution_count": null,
   "id": "d8aa1111",
   "metadata": {},
   "outputs": [],
   "source": [
    "import pandas as pd\n",
    "import numpy as np\n",
    "import matplotlib.pyplot as plt"
   ]
  },
  {
   "cell_type": "markdown",
   "id": "b3d888bc",
   "metadata": {},
   "source": [
    "### Step 1 - Data Preparation"
   ]
  },
  {
   "cell_type": "code",
   "execution_count": null,
   "id": "5895e863",
   "metadata": {},
   "outputs": [],
   "source": [
    "df = pd.read_csv('train.csv')    # Download MNIST Dataset for Hand Digit Recognition\n",
    "print(df.shape)"
   ]
  },
  {
   "cell_type": "code",
   "execution_count": null,
   "id": "6ff218b1",
   "metadata": {},
   "outputs": [],
   "source": [
    "print(df.columns)"
   ]
  },
  {
   "cell_type": "code",
   "execution_count": null,
   "id": "20fb797d",
   "metadata": {},
   "outputs": [],
   "source": [
    "df.head()"
   ]
  },
  {
   "cell_type": "code",
   "execution_count": null,
   "id": "f63a2381",
   "metadata": {},
   "outputs": [],
   "source": [
    "data = df.values\n",
    "print(data.shape)\n",
    "print(type(data))"
   ]
  },
  {
   "cell_type": "code",
   "execution_count": null,
   "id": "9c222934",
   "metadata": {},
   "outputs": [],
   "source": [
    "split = int(0.8*X.shape[0])\n",
    "print(split)\n",
    "\n",
    "X_train = X[:split, :]\n",
    "Y_train = Y[:split]\n",
    "\n",
    "X_train = X[split : , :]\n",
    "Y_train = Y[split: ]\n",
    "\n",
    "print(X_train.shape, Y_train.shape)\n",
    "print(X_test.shape, Y_test.shape)"
   ]
  },
  {
   "cell_type": "code",
   "execution_count": null,
   "id": "057ddb68",
   "metadata": {},
   "outputs": [],
   "source": [
    "# Visualise Some samples\n",
    "def drawImg(sample):\n",
    "    img = sample.reshape((28, 28))\n",
    "    plt.imshow(img, cmap='grey')\n",
    "    plt.show()\n",
    "\n",
    "drawImg(X_train[3])"
   ]
  },
  {
   "cell_type": "markdown",
   "id": "cb101bea",
   "metadata": {},
   "source": [
    "### Step 2 - KNN"
   ]
  },
  {
   "cell_type": "code",
   "execution_count": null,
   "id": "cd41fb40",
   "metadata": {},
   "outputs": [],
   "source": [
    "def dist(x1, x2):\n",
    "    return np.sqrt(sum((x1-x2)**2))"
   ]
  },
  {
   "cell_type": "code",
   "execution_count": null,
   "id": "15dd8ea4",
   "metadata": {},
   "outputs": [],
   "source": [
    "def KNN(X, Y, queryPoint, k=5):\n",
    "    vals = []\n",
    "    m = X.shape[0]\n",
    "    for i in range(m):\n",
    "        d = dist(queryPoint, X[i])\n",
    "        vals.append((d, Y[i]))\n",
    "    \n",
    "    vals = sorted(vals)\n",
    "    vals = vals[ : k]\n",
    "    \n",
    "    vals = np.array(vals)\n",
    "    new_vals = np.unique(vals[:, 1], return_counts = True)\n",
    "    # print(new_vals)\n",
    "    index = new_vals[1].argmax()\n",
    "    pred = new_vals[0][index]\n",
    "    return pred"
   ]
  },
  {
   "cell_type": "markdown",
   "id": "8325bff6",
   "metadata": {},
   "source": [
    "### Step 3 - Make Prediction"
   ]
  },
  {
   "cell_type": "code",
   "execution_count": null,
   "id": "1a583cdf",
   "metadata": {},
   "outputs": [],
   "source": [
    "pred = KNN(X_train, Y_train, X_test[0])\n",
    "print(int(pred))"
   ]
  },
  {
   "cell_type": "code",
   "execution_count": null,
   "id": "58779638",
   "metadata": {},
   "outputs": [],
   "source": [
    "# Write one method which computes accuracy of KNN the test set!"
   ]
  },
  {
   "cell_type": "code",
   "execution_count": null,
   "id": "f44c2b25",
   "metadata": {},
   "outputs": [],
   "source": []
  }
 ],
 "metadata": {
  "kernelspec": {
   "display_name": "Python 3 (ipykernel)",
   "language": "python",
   "name": "python3"
  },
  "language_info": {
   "codemirror_mode": {
    "name": "ipython",
    "version": 3
   },
   "file_extension": ".py",
   "mimetype": "text/x-python",
   "name": "python",
   "nbconvert_exporter": "python",
   "pygments_lexer": "ipython3",
   "version": "3.10.0"
  }
 },
 "nbformat": 4,
 "nbformat_minor": 5
}
